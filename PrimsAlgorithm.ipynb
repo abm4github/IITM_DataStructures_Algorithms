{
  "nbformat": 4,
  "nbformat_minor": 0,
  "metadata": {
    "colab": {
      "provenance": [],
      "authorship_tag": "ABX9TyOT/S+SHa/tlCi+OFxpDcb2",
      "include_colab_link": true
    },
    "kernelspec": {
      "name": "python3",
      "display_name": "Python 3"
    },
    "language_info": {
      "name": "python"
    }
  },
  "cells": [
    {
      "cell_type": "markdown",
      "metadata": {
        "id": "view-in-github",
        "colab_type": "text"
      },
      "source": [
        "<a href=\"https://colab.research.google.com/github/abm4github/IITM_DataStructures_Algorithms/blob/main/PrimsAlgorithm.ipynb\" target=\"_parent\"><img src=\"https://colab.research.google.com/assets/colab-badge.svg\" alt=\"Open In Colab\"/></a>"
      ]
    },
    {
      "cell_type": "markdown",
      "source": [
        "#Prim's Algorithm"
      ],
      "metadata": {
        "id": "0rqYgFypGK37"
      }
    },
    {
      "cell_type": "markdown",
      "source": [
        "### As per IITM PDSA course (original)"
      ],
      "metadata": {
        "id": "6QL0ycfCGyQp"
      }
    },
    {
      "cell_type": "code",
      "execution_count": 3,
      "metadata": {
        "colab": {
          "base_uri": "https://localhost:8080/"
        },
        "id": "cYpd8zNMGHk_",
        "outputId": "be189152-4a48-4324-8e7a-819ef44051f2"
      },
      "outputs": [
        {
          "output_type": "stream",
          "name": "stdout",
          "text": [
            "[(0, 1), (1, 3), (1, 2), (2, 4)]\n"
          ]
        }
      ],
      "source": [
        "def primlist(WList):\n",
        "    infinity = 1 + max([d for u in WList.keys()\n",
        "                           for (v,d) in WList[u]])\n",
        "    (visited,distance) = ({},{})\n",
        "    for v in WList.keys():\n",
        "        (visited[v],distance[v]) = (False,infinity)\n",
        "        \n",
        "    TreeEdges = []\n",
        "    visited[0] = True\n",
        "    for (v,d) in WList[0]:\n",
        "        distance[v] = d\n",
        "    \n",
        "    for i in WList.keys():\n",
        "        mindist = infinity\n",
        "        nextv = None\n",
        "        for u in WList.keys():\n",
        "            for (v,d) in WList[u]:\n",
        "                if visited[u] and (not visited[v]) and d < mindist:\n",
        "                    mindist = d\n",
        "                    nextv = v\n",
        "                    nexte = (u,v)\n",
        "                    \n",
        "        if nextv is None:\n",
        "            break\n",
        "        \n",
        "        visited[nextv] = True\n",
        "        TreeEdges.append(nexte)\n",
        "        for (v,d) in WList[nextv]:\n",
        "            if not visited[v]:\n",
        "                distance[v] = min(distance[v],d)\n",
        "    return(TreeEdges)\n",
        "\n",
        "\n",
        "\n",
        "\n",
        "dedges = [(0,1,10),(0,3,18),(1,2,20),(1,3,6),(2,4,8),(3,4,70)]\n",
        "edges = dedges + [(j,i,w) for (i,j,w) in dedges]\n",
        "size = 5\n",
        "WL = {}\n",
        "for i in range(size):\n",
        "    WL[i] = []\n",
        "for (i,j,d) in edges:\n",
        "    WL[i].append((j,d))\n",
        "print(primlist(WL))"
      ]
    },
    {
      "cell_type": "markdown",
      "source": [
        "### Shortened version 1: WList (WL) is provided directly, therefore steps to create it are deleted"
      ],
      "metadata": {
        "id": "Z1ZoqcyJHOY3"
      }
    },
    {
      "cell_type": "code",
      "source": [
        "WList = {0: [(1, 10), (3, 18)], 1: [(2, 20), (3, 6), (0, 10)], 2: [(4, 8), (1, 20)], 3: [(4, 70), (0, 18), (1, 6)], 4: [(2, 8), (3, 70)]}\n",
        "def primlist(WList):\n",
        "    infinity = 1 + max([d for u in WList.keys()\n",
        "                           for (v,d) in WList[u]])\n",
        "    (visited,distance) = ({},{})\n",
        "    for v in WList.keys():\n",
        "        (visited[v],distance[v]) = (False,infinity)\n",
        "        \n",
        "    TreeEdges = []\n",
        "    visited[0] = True\n",
        "    for (v,d) in WList[0]:\n",
        "        distance[v] = d\n",
        "    \n",
        "    for i in WList.keys():\n",
        "        mindist = infinity\n",
        "        nextv = None\n",
        "        for u in WList.keys():\n",
        "            for (v,d) in WList[u]:\n",
        "                if visited[u] and (not visited[v]) and d < mindist:\n",
        "                    mindist = d\n",
        "                    nextv = v\n",
        "                    nexte = (u,v)\n",
        "                    \n",
        "        if nextv is None:\n",
        "            break\n",
        "        \n",
        "        visited[nextv] = True\n",
        "        TreeEdges.append(nexte)\n",
        "        for (v,d) in WList[nextv]:\n",
        "            if not visited[v]:\n",
        "                distance[v] = min(distance[v],d)\n",
        "    return(TreeEdges)\n",
        "\n",
        "print(primlist(WList))    "
      ],
      "metadata": {
        "colab": {
          "base_uri": "https://localhost:8080/"
        },
        "id": "EfonP-F2GIea",
        "outputId": "3c70b81c-2fcf-49ec-de97-238830d67d89"
      },
      "execution_count": 17,
      "outputs": [
        {
          "output_type": "stream",
          "name": "stdout",
          "text": [
            "[(0, 1), (1, 3), (1, 2), (2, 4)]\n"
          ]
        }
      ]
    },
    {
      "cell_type": "markdown",
      "source": [
        "## The code inside the function primlist(WList) is brought out to analyse it in parts"
      ],
      "metadata": {
        "id": "b9WtPJiEH_8A"
      }
    },
    {
      "cell_type": "code",
      "source": [
        "WList = {0: [(1, 10), (3, 18)], 1: [(2, 20), (3, 6), (0, 10)], 2: [(4, 8), (1, 20)], 3: [(4, 70), (0, 18), (1, 6)], 4: [(2, 8), (3, 70)]}\n",
        "\n",
        "\n",
        "infinity = 1 + max([d for u in WList.keys()\n",
        "                        for (v,d) in WList[u]])\n",
        "(visited,distance) = ({},{})\n",
        "for v in WList.keys():\n",
        "    (visited[v],distance[v]) = (False,infinity)\n",
        "\n",
        "print(\"Initialisation of dictionary called visited:\\n\",visited,\"\\n\")\n",
        "print(\"Initialisation of dictionary called distance:\\n\",distance,\"\\n\")\n"
      ],
      "metadata": {
        "colab": {
          "base_uri": "https://localhost:8080/"
        },
        "id": "jQcx_4NbHxhL",
        "outputId": "9d5e04ea-1a0d-42f3-a34d-4dad30d2442e"
      },
      "execution_count": 2,
      "outputs": [
        {
          "output_type": "stream",
          "name": "stdout",
          "text": [
            "Initialisation of dictionary called visited:\n",
            " {0: False, 1: False, 2: False, 3: False, 4: False} \n",
            "\n",
            "Initialisation of dictionary called distance:\n",
            " {0: 71, 1: 71, 2: 71, 3: 71, 4: 71} \n",
            "\n"
          ]
        }
      ]
    },
    {
      "cell_type": "code",
      "source": [
        "TreeEdges = [] # a list is created, to append all the desired edges\n",
        "visited[0] = True\n",
        "for (v,d) in WList[0]:\n",
        "    distance[v] = d\n",
        "print(\"Initialisation of list called TreeEdges:\\n\",TreeEdges,\"\\n\")\n",
        "print(\"updated dictionary called visited after setting vertex 0 as True:\\n\",visited,\"\\n\")\n",
        "print(\"updated dictionary called distance after updating weights from vertex 0:\\n\",distance,\"\\n\")"
      ],
      "metadata": {
        "colab": {
          "base_uri": "https://localhost:8080/"
        },
        "id": "GtloXjSmJb4M",
        "outputId": "7e54d5dd-3913-41d5-b665-56afa00bd0e5"
      },
      "execution_count": 3,
      "outputs": [
        {
          "output_type": "stream",
          "name": "stdout",
          "text": [
            "Initialisation of list called TreeEdges:\n",
            " [] \n",
            "\n",
            "updated dictionary called visited after setting vertex 0 as True:\n",
            " {0: True, 1: False, 2: False, 3: False, 4: False} \n",
            "\n",
            "updated dictionary called distance after updating weights from vertex 0:\n",
            " {0: 71, 1: 10, 2: 71, 3: 18, 4: 71} \n",
            "\n"
          ]
        }
      ]
    },
    {
      "cell_type": "markdown",
      "source": [
        "The following is the crux to understand Prim's algorithm"
      ],
      "metadata": {
        "id": "7YU-2_ZfNo1U"
      }
    },
    {
      "cell_type": "code",
      "source": [
        "# for i in WList.keys():  # this line of code is replaced with next line of code inorder to clarify that this line is only used to loop for \"as many times as vertices\"\n",
        "for i in range(5): \n",
        "    mindist = infinity\n",
        "    nextv = None\n",
        "    for u in WList.keys():\n",
        "        # following loop will transverse inside the visited u (key of WList)\n",
        "        # finds all v which are not yet visited\n",
        "        # out of those v, it collect information like: minimum d as (mindist) and associated v as (nextv) along with respective edge(u,v) as (nexte) \n",
        "        for (v,d) in WList[u]:\n",
        "            if visited[u] and (not visited[v]) and d < mindist:\n",
        "                mindist = d\n",
        "                nextv = v\n",
        "                nexte = (u,v)\n",
        "       \n",
        "    if nextv is None:\n",
        "        break\n",
        "\n",
        "    visited[nextv] = True\n",
        "    TreeEdges.append(nexte) # the minimum edge calculated above (nexte) is added in the list called TreeEdges\n",
        "\n",
        "    # from vertex called 'nextv', the distance of all vertices connected to it is updated \n",
        "    for (v,d) in WList[nextv]:\n",
        "        if not visited[v]:\n",
        "            distance[v] = min(distance[v],d) # updated\n",
        "\n",
        "print(TreeEdges)"
      ],
      "metadata": {
        "colab": {
          "base_uri": "https://localhost:8080/"
        },
        "id": "KhJIzuuII0_N",
        "outputId": "23026afa-4687-4efb-b399-17d7f69d1ce1"
      },
      "execution_count": 4,
      "outputs": [
        {
          "output_type": "stream",
          "name": "stdout",
          "text": [
            "[(0, 1), (1, 3), (1, 2), (2, 4)]\n"
          ]
        }
      ]
    }
  ]
}