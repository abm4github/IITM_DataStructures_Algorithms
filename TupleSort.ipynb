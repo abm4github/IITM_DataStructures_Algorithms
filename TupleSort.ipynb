{
  "nbformat": 4,
  "nbformat_minor": 0,
  "metadata": {
    "colab": {
      "provenance": [],
      "authorship_tag": "ABX9TyMzqV8sLvfdw0kXYesf8TN7",
      "include_colab_link": true
    },
    "kernelspec": {
      "name": "python3",
      "display_name": "Python 3"
    },
    "language_info": {
      "name": "python"
    }
  },
  "cells": [
    {
      "cell_type": "markdown",
      "metadata": {
        "id": "view-in-github",
        "colab_type": "text"
      },
      "source": [
        "<a href=\"https://colab.research.google.com/github/abm4github/IITM_DataStructures_Algorithms/blob/main/TupleSort.ipynb\" target=\"_parent\"><img src=\"https://colab.research.google.com/assets/colab-badge.svg\" alt=\"Open In Colab\"/></a>"
      ]
    },
    {
      "cell_type": "markdown",
      "source": [
        "#Tuple Sorter"
      ],
      "metadata": {
        "id": "UBrGvVagbWo6"
      }
    },
    {
      "cell_type": "markdown",
      "source": [
        "It takes set of tuples and sort them without overlaps by simply eliminating them\n",
        "\n",
        "Algorithm:\n",
        "1.   List itemSort all jobs which based on end time in increasing order.\n",
        "2.   Take the interval which has earliest finish time.\n",
        "3.   Repeat next two steps till you process all jobs.\n",
        "4.   Eliminate all intervals which have start time less than selected interval’s end time.\n",
        "5.   If interval has start time greater than current interval’s end time, add it to set. Set current interval to new interval.\n",
        "\n",
        "\n"
      ],
      "metadata": {
        "id": "8HGlOmH8bd2D"
      }
    },
    {
      "cell_type": "code",
      "execution_count": 3,
      "metadata": {
        "colab": {
          "base_uri": "https://localhost:8080/"
        },
        "id": "O-YAlwz3auR8",
        "outputId": "994d9447-fd6f-4979-e59e-c7d04916bf22"
      },
      "outputs": [
        {
          "output_type": "stream",
          "name": "stdout",
          "text": [
            "4\n"
          ]
        }
      ],
      "source": [
        "# original, as per the course\n",
        "\n",
        "def tuplesort(L, index):\n",
        "    L_ = []\n",
        "    for t in L:\n",
        "        L_.append(t[index:index+1] + t[:index] + t[index+1:])\n",
        "    L_.sort()\n",
        "\n",
        "    L__ = []\n",
        "    for t in L_:\n",
        "        L__.append(t[1:index+1] + t[0:1] + t[index+1:])\n",
        "    return L__\n",
        "\n",
        "def intervalschedule(L):\n",
        "    sortedL = tuplesort(L, 2)\n",
        "    accepted = [sortedL[0][0]]\n",
        "    for i, s, f in sortedL[1:]:\n",
        "        if s > L[accepted[-1]][2]:\n",
        "            accepted.append(i)\n",
        "    return accepted\n",
        "\n",
        "#(job id,start time, finish time) in each tuple of list L\n",
        "L = [(0, 1, 2),(1, 1, 3),(2, 1, 5),(3, 3, 4),(4, 4, 5),(5, 5, 8),(6, 7, 9),(7, 10, 13),(8, 11, 12)]\n",
        "print(len(intervalschedule(L)))\n"
      ]
    }
  ]
}