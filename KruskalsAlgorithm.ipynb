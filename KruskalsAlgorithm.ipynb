{
  "nbformat": 4,
  "nbformat_minor": 0,
  "metadata": {
    "colab": {
      "provenance": [],
      "authorship_tag": "ABX9TyO7NoRMYFwiFI2nVrkSG3xT",
      "include_colab_link": true
    },
    "kernelspec": {
      "name": "python3",
      "display_name": "Python 3"
    },
    "language_info": {
      "name": "python"
    }
  },
  "cells": [
    {
      "cell_type": "markdown",
      "metadata": {
        "id": "view-in-github",
        "colab_type": "text"
      },
      "source": [
        "<a href=\"https://colab.research.google.com/github/abm4github/IITM_DataStructures_Algorithms/blob/main/KruskalsAlgorithm.ipynb\" target=\"_parent\"><img src=\"https://colab.research.google.com/assets/colab-badge.svg\" alt=\"Open In Colab\"/></a>"
      ]
    },
    {
      "cell_type": "markdown",
      "source": [
        "#Kruskal's Algorithm"
      ],
      "metadata": {
        "id": "QcBzuEt9VjB_"
      }
    },
    {
      "cell_type": "markdown",
      "source": [
        "## original one as per PDSA course by IITM"
      ],
      "metadata": {
        "id": "hgpZi7IjXT9f"
      }
    },
    {
      "cell_type": "code",
      "execution_count": 3,
      "metadata": {
        "colab": {
          "base_uri": "https://localhost:8080/"
        },
        "id": "kMu5lL9zVbgt",
        "outputId": "b82ab4ee-41dc-4e3e-ab69-8094da831f12"
      },
      "outputs": [
        {
          "output_type": "stream",
          "name": "stdout",
          "text": [
            "[(5, 6), (1, 2), (0, 1), (4, 5), (1, 4), (2, 3)]\n"
          ]
        }
      ],
      "source": [
        "def kruskal(WList):\n",
        "    (edges,component,TE) = ([],{},[])\n",
        "    for u in WList.keys():\n",
        "        # Weight as first component to sort easily\n",
        "        edges.extend([(d,u,v) for (v,d) in WList[u]])\n",
        "        component[u] = u\n",
        "    edges.sort()\n",
        "    #print(edges)\n",
        "    \n",
        "    for (d,u,v) in edges:\n",
        "        if component[u] != component[v]:\n",
        "            TE.append((u,v))\n",
        "            c = component[u]\n",
        "            for w in WList.keys():\n",
        "                if component[w] == c:\n",
        "                    component[w] = component[v]\n",
        "    return(TE)\n",
        "\n",
        "dedges = [(0,1,10),(0,2,18),(1,2,6),(1,4,20),(2,3,70),(4,5,10),(4,6,10),(5,6,5)]\n",
        "edges = dedges + [(j,i,w) for (i,j,w) in dedges]\n",
        "size = 7\n",
        "WL = {}\n",
        "for i in range(size):\n",
        "    WL[i] = []\n",
        "for (i,j,d) in edges:\n",
        "    WL[i].append((j,d))\n",
        "\n",
        "print(kruskal(WL))"
      ]
    },
    {
      "cell_type": "markdown",
      "source": [
        "### shortened version, by directly providing WList"
      ],
      "metadata": {
        "id": "APw8ttRuXlji"
      }
    },
    {
      "cell_type": "code",
      "source": [
        "WList = {0: [(1, 10), (2, 18)], 1: [(2, 6), (4, 20), (0, 10)], 2: [(3, 70), (0, 18), (1, 6)], 3: [(2, 70)], 4: [(5, 10), (6, 10), (1, 20)], 5: [(6, 5), (4, 10)], 6: [(4, 10), (5, 5)]}\n",
        "def kruskal(WList):\n",
        "    (edges,component,TE) = ([],{},[])\n",
        "    for u in WList.keys():\n",
        "        # Weight as first component to sort easily\n",
        "        edges.extend([(d,u,v) for (v,d) in WList[u]])\n",
        "        component[u] = u\n",
        "    edges.sort()\n",
        "    #print(edges)\n",
        "    \n",
        "    for (d,u,v) in edges:\n",
        "        if component[u] != component[v]:\n",
        "            TE.append((u,v))\n",
        "            c = component[u]\n",
        "            for w in WList.keys():\n",
        "                if component[w] == c:\n",
        "                    component[w] = component[v]\n",
        "    return(TE)\n",
        "\n",
        "kruskal(WList)"
      ],
      "metadata": {
        "colab": {
          "base_uri": "https://localhost:8080/"
        },
        "id": "3_t_aUJhXjXd",
        "outputId": "d51e2b22-f490-44e1-93d4-f5fdb0173511"
      },
      "execution_count": 2,
      "outputs": [
        {
          "output_type": "execute_result",
          "data": {
            "text/plain": [
              "[(5, 6), (1, 2), (0, 1), (4, 5), (1, 4), (2, 3)]"
            ]
          },
          "metadata": {},
          "execution_count": 2
        }
      ]
    },
    {
      "cell_type": "markdown",
      "source": [
        "## The code inside the function kruskal(WList) is brought out to analyse it in parts"
      ],
      "metadata": {
        "id": "HSn-tr4-YHhX"
      }
    },
    {
      "cell_type": "code",
      "source": [
        "WList = {0: [(1, 10), (2, 18)], 1: [(2, 6), (4, 20), (0, 10)], 2: [(3, 70), (0, 18), (1, 6)], 3: [(2, 70)], 4: [(5, 10), (6, 10), (1, 20)], 5: [(6, 5), (4, 10)], 6: [(4, 10), (5, 5)]}\n",
        "\n",
        "edges = []\n",
        "component = {}\n",
        "TE = []\n",
        "\n",
        "for u in WList.keys():\n",
        "    edges.extend([(d,u,v) for (v,d) in WList[u]])   # Weights are brought to the first inorder to sort as per weights\n",
        "    component[u] = u    # initially each vertex is single component, therefore total components are as many as vertices\n",
        "\n",
        "edges.sort()    # sorted as per weights \n",
        "\n",
        "print(edges)\n",
        "print(component)"
      ],
      "metadata": {
        "colab": {
          "base_uri": "https://localhost:8080/"
        },
        "id": "_3yULBylX-RH",
        "outputId": "8c53c5a7-655b-4e53-8a5d-6143ac3fcedf"
      },
      "execution_count": 22,
      "outputs": [
        {
          "output_type": "stream",
          "name": "stdout",
          "text": [
            "[(5, 5, 6), (5, 6, 5), (6, 1, 2), (6, 2, 1), (10, 0, 1), (10, 1, 0), (10, 4, 5), (10, 4, 6), (10, 5, 4), (10, 6, 4), (18, 0, 2), (18, 2, 0), (20, 1, 4), (20, 4, 1), (70, 2, 3), (70, 3, 2)]\n",
            "{0: 0, 1: 1, 2: 2, 3: 3, 4: 4, 5: 5, 6: 6}\n"
          ]
        }
      ]
    },
    {
      "cell_type": "markdown",
      "source": [
        "The following is the crux to understand Kruskal's algorithm"
      ],
      "metadata": {
        "id": "hiXEZ0ZMYjWQ"
      }
    },
    {
      "cell_type": "code",
      "source": [
        "for (d,u,v) in edges:\n",
        "    if component[u] != component[v]:\n",
        "        TE.append((u,v))\n",
        "        c = component[u]\n",
        "        print(\"after appending\",u,v,\"the updated component dictionary is: \",component)\n",
        "        for w in WList.keys():\n",
        "            if component[w] == c:\n",
        "                print(\"component before:\",component)\n",
        "                component[w] = component[v]\n",
        "                print(\"component after:\",component,\"\\n\")\n",
        "print(\"\\n list of minimum spanning edges: \",TE)"
      ],
      "metadata": {
        "colab": {
          "base_uri": "https://localhost:8080/"
        },
        "id": "G9_HsRr7YdiT",
        "outputId": "90969303-ed25-4d74-bf7c-0e8c489961d5"
      },
      "execution_count": 23,
      "outputs": [
        {
          "output_type": "stream",
          "name": "stdout",
          "text": [
            "after appending 5 6 the updated component dictionary is:  {0: 0, 1: 1, 2: 2, 3: 3, 4: 4, 5: 5, 6: 6}\n",
            "component before: {0: 0, 1: 1, 2: 2, 3: 3, 4: 4, 5: 5, 6: 6}\n",
            "component after: {0: 0, 1: 1, 2: 2, 3: 3, 4: 4, 5: 6, 6: 6} \n",
            "\n",
            "after appending 1 2 the updated component dictionary is:  {0: 0, 1: 1, 2: 2, 3: 3, 4: 4, 5: 6, 6: 6}\n",
            "component before: {0: 0, 1: 1, 2: 2, 3: 3, 4: 4, 5: 6, 6: 6}\n",
            "component after: {0: 0, 1: 2, 2: 2, 3: 3, 4: 4, 5: 6, 6: 6} \n",
            "\n",
            "after appending 0 1 the updated component dictionary is:  {0: 0, 1: 2, 2: 2, 3: 3, 4: 4, 5: 6, 6: 6}\n",
            "component before: {0: 0, 1: 2, 2: 2, 3: 3, 4: 4, 5: 6, 6: 6}\n",
            "component after: {0: 2, 1: 2, 2: 2, 3: 3, 4: 4, 5: 6, 6: 6} \n",
            "\n",
            "after appending 4 5 the updated component dictionary is:  {0: 2, 1: 2, 2: 2, 3: 3, 4: 4, 5: 6, 6: 6}\n",
            "component before: {0: 2, 1: 2, 2: 2, 3: 3, 4: 4, 5: 6, 6: 6}\n",
            "component after: {0: 2, 1: 2, 2: 2, 3: 3, 4: 6, 5: 6, 6: 6} \n",
            "\n",
            "after appending 1 4 the updated component dictionary is:  {0: 2, 1: 2, 2: 2, 3: 3, 4: 6, 5: 6, 6: 6}\n",
            "component before: {0: 2, 1: 2, 2: 2, 3: 3, 4: 6, 5: 6, 6: 6}\n",
            "component after: {0: 6, 1: 2, 2: 2, 3: 3, 4: 6, 5: 6, 6: 6} \n",
            "\n",
            "component before: {0: 6, 1: 2, 2: 2, 3: 3, 4: 6, 5: 6, 6: 6}\n",
            "component after: {0: 6, 1: 6, 2: 2, 3: 3, 4: 6, 5: 6, 6: 6} \n",
            "\n",
            "component before: {0: 6, 1: 6, 2: 2, 3: 3, 4: 6, 5: 6, 6: 6}\n",
            "component after: {0: 6, 1: 6, 2: 6, 3: 3, 4: 6, 5: 6, 6: 6} \n",
            "\n",
            "after appending 2 3 the updated component dictionary is:  {0: 6, 1: 6, 2: 6, 3: 3, 4: 6, 5: 6, 6: 6}\n",
            "component before: {0: 6, 1: 6, 2: 6, 3: 3, 4: 6, 5: 6, 6: 6}\n",
            "component after: {0: 3, 1: 6, 2: 6, 3: 3, 4: 6, 5: 6, 6: 6} \n",
            "\n",
            "component before: {0: 3, 1: 6, 2: 6, 3: 3, 4: 6, 5: 6, 6: 6}\n",
            "component after: {0: 3, 1: 3, 2: 6, 3: 3, 4: 6, 5: 6, 6: 6} \n",
            "\n",
            "component before: {0: 3, 1: 3, 2: 6, 3: 3, 4: 6, 5: 6, 6: 6}\n",
            "component after: {0: 3, 1: 3, 2: 3, 3: 3, 4: 6, 5: 6, 6: 6} \n",
            "\n",
            "component before: {0: 3, 1: 3, 2: 3, 3: 3, 4: 6, 5: 6, 6: 6}\n",
            "component after: {0: 3, 1: 3, 2: 3, 3: 3, 4: 3, 5: 6, 6: 6} \n",
            "\n",
            "component before: {0: 3, 1: 3, 2: 3, 3: 3, 4: 3, 5: 6, 6: 6}\n",
            "component after: {0: 3, 1: 3, 2: 3, 3: 3, 4: 3, 5: 3, 6: 6} \n",
            "\n",
            "component before: {0: 3, 1: 3, 2: 3, 3: 3, 4: 3, 5: 3, 6: 6}\n",
            "component after: {0: 3, 1: 3, 2: 3, 3: 3, 4: 3, 5: 3, 6: 3} \n",
            "\n",
            "\n",
            " list of minimum spanning edges:  [(5, 6), (1, 2), (0, 1), (4, 5), (1, 4), (2, 3)]\n"
          ]
        }
      ]
    },
    {
      "cell_type": "markdown",
      "source": [
        "## Improvised version using Union-Find"
      ],
      "metadata": {
        "id": "LBSWmNFEfqtw"
      }
    },
    {
      "cell_type": "code",
      "source": [
        "class MakeUnionFind:\n",
        "    def __init__(self):\n",
        "        self.components = {}\n",
        "        self.members = {}\n",
        "        self.size = {}\n",
        "    def make_union_find(self,vertices):\n",
        "        for vertex in range(vertices):\n",
        "            self.components[vertex] = vertex\n",
        "            self.members[vertex] = [vertex]\n",
        "            self.size[vertex] = 1\n",
        "    def find(self,vertex):\n",
        "        return self.components[vertex]\n",
        "    def union(self,u,v):\n",
        "        c_old = self.components[u]\n",
        "        c_new = self.components[v]\n",
        "        # Always add member in components which have greater size\n",
        "        if self.size[c_new] >= self.size[c_old]:            \n",
        "            for x in self.members[c_old]:\n",
        "                self.components[x] = c_new\n",
        "                self.members[c_new].append(x)\n",
        "                self.size[c_new] += 1\n",
        "        else:\n",
        "            for x in self.members[c_new]:\n",
        "                self.components[x] = c_old\n",
        "                self.members[c_old].append(x)\n",
        "                self.size[c_old] += 1\n",
        "\n",
        "def kruskal(WList):\n",
        "    (edges,TE) = ([],[])\n",
        "    for u in WList.keys():\n",
        "        edges.extend([(d,u,v) for (v,d) in WList[u]])\n",
        "    edges.sort()\n",
        "\n",
        "    mf = MakeUnionFind()\n",
        "    mf.make_union_find(len(WList))\n",
        "    for (d,u,v) in edges:\n",
        "        if mf.components[u] != mf.components[v]:\n",
        "            mf.union(u,v)\n",
        "            TE.append((u,v,d))\n",
        "        # We can stop the process if the size becomes equal to the total number of vertices\n",
        "        # Which represent that a spanning tree is completed\n",
        "\n",
        "        if mf.size[mf.components[u]] >= mf.size[mf.components[v]]:\n",
        "            if mf.size[mf.components[u]] == len(WList):\n",
        "                break\n",
        "        else:\n",
        "            if mf.size[mf.components[v]] == len(WList):\n",
        "                break\n",
        "   \n",
        "    return(TE)   \n",
        "\n",
        "# Testcase\n",
        "\n",
        "edge = [(0,1,10),(0,2,18),(0,3,6),(0,4,20),(0,5,13),(1,2,10),(1,3,10),(1,4,5),(1,5,7),(2,3,2),(2,4,14),(2,5,15),(3,4,17),(3,5,12),(4,5,10)]\n",
        "\n",
        "size = 6\n",
        "WL = {}\n",
        "for i in range(size):\n",
        "    WL[i] = []\n",
        "for (i,j,d) in edge:\n",
        "    WL[i].append((j,d))\n",
        "\n",
        "print(kruskal(WL))"
      ],
      "metadata": {
        "colab": {
          "base_uri": "https://localhost:8080/"
        },
        "id": "NzXKSfG8CKB-",
        "outputId": "14dd34f3-b4eb-4a6e-9be5-28126375c39b"
      },
      "execution_count": 48,
      "outputs": [
        {
          "output_type": "stream",
          "name": "stdout",
          "text": [
            "[(2, 3, 2), (1, 4, 5), (0, 3, 6), (1, 5, 7), (0, 1, 10)]\n"
          ]
        }
      ]
    },
    {
      "cell_type": "code",
      "source": [
        "class MakeUnionFind:\n",
        "    def __init__(self):\n",
        "        self.components = {}\n",
        "        self.members = {}\n",
        "        self.size = {}\n",
        "    def make_union_find(self,vertices):\n",
        "        for vertex in range(vertices):\n",
        "            self.components[vertex] = vertex\n",
        "            self.members[vertex] = [vertex]\n",
        "            self.size[vertex] = 1\n",
        "    def find(self,vertex):\n",
        "        return self.components[vertex]\n",
        "    def union(self,u,v):\n",
        "        c_old = self.components[u]\n",
        "        c_new = self.components[v]\n",
        "        # Always add member in components which have greater size\n",
        "        if self.size[c_new] >= self.size[c_old]:            \n",
        "            for x in self.members[c_old]:\n",
        "                self.components[x] = c_new\n",
        "                self.members[c_new].append(x)\n",
        "                self.size[c_new] += 1\n",
        "        else:\n",
        "            for x in self.members[c_new]:\n",
        "                self.components[x] = c_old\n",
        "                self.members[c_old].append(x)\n",
        "                self.size[c_old] += 1\n",
        "\n",
        "def kruskal(WList):\n",
        "    (edges,TE) = ([],[])\n",
        "    for u in WList.keys():\n",
        "        edges.extend([(d,u,v) for (v,d) in WList[u]])\n",
        "    edges.sort()\n",
        "\n",
        "    mf = MakeUnionFind()\n",
        "    mf.make_union_find(len(WList))\n",
        "    for (d,u,v) in edges:\n",
        "        if mf.components[u] != mf.components[v]:\n",
        "            mf.union(u,v)\n",
        "            TE.append((u,v,d))\n",
        "        # We can stop the process if the size becomes equal to the total number of vertices\n",
        "        # Which represent that a spanning tree is completed\n",
        "\n",
        "# -----------------------------------------------------------------------------------------------------------        \n",
        "        # if mf.size[mf.components[u]] >= mf.size[mf.components[v]]:\n",
        "        #     if mf.size[mf.components[u]] == len(WList):\n",
        "        #         break\n",
        "        # else:\n",
        "        #     if mf.size[mf.components[v]] == len(WList):\n",
        "        #         break\n",
        "   \n",
        "    # return(TE)   # this complete cell is replaced by following two lines of code\n",
        "# -----------------------------------------------------------------------------------------------------------\n",
        "        if len(TE) == len(WList)-1:  # we know that the minimum span edges would be one less than total number of vertices.\n",
        "          return(TE)   # this too provide same answer, it means the above lines of code to ensure that all vertices are visited.\n",
        "# -----------------------------------------------------------------------------------------------------------\n",
        "# Testcase\n",
        "\n",
        "edge = [(0,1,10),(0,2,18),(0,3,6),(0,4,20),(0,5,13),(1,2,10),(1,3,10),(1,4,5),(1,5,7),(2,3,2),(2,4,14),(2,5,15),(3,4,17),(3,5,12),(4,5,10)]\n",
        "\n",
        "size = 6\n",
        "WL = {}\n",
        "for i in range(size):\n",
        "    WL[i] = []\n",
        "for (i,j,d) in edge:\n",
        "    WL[i].append((j,d))\n",
        "\n",
        "print(kruskal(WL))"
      ],
      "metadata": {
        "colab": {
          "base_uri": "https://localhost:8080/"
        },
        "id": "eDvknYKNfqE8",
        "outputId": "239d5da9-a3a9-497f-a705-b90eb725c98b"
      },
      "execution_count": 49,
      "outputs": [
        {
          "output_type": "stream",
          "name": "stdout",
          "text": [
            "[(2, 3, 2), (1, 4, 5), (0, 3, 6), (1, 5, 7), (0, 1, 10)]\n"
          ]
        }
      ]
    }
  ]
}