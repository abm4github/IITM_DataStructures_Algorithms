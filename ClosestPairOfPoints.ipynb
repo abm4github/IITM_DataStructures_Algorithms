{
  "nbformat": 4,
  "nbformat_minor": 0,
  "metadata": {
    "colab": {
      "provenance": [],
      "authorship_tag": "ABX9TyMdc7H7m/nMwvW4oUsKK1Ex",
      "include_colab_link": true
    },
    "kernelspec": {
      "name": "python3",
      "display_name": "Python 3"
    },
    "language_info": {
      "name": "python"
    }
  },
  "cells": [
    {
      "cell_type": "markdown",
      "metadata": {
        "id": "view-in-github",
        "colab_type": "text"
      },
      "source": [
        "<a href=\"https://colab.research.google.com/github/abm4github/IITM_DataStructures_Algorithms/blob/main/ClosestPairOfPoints.ipynb\" target=\"_parent\"><img src=\"https://colab.research.google.com/assets/colab-badge.svg\" alt=\"Open In Colab\"/></a>"
      ]
    },
    {
      "cell_type": "markdown",
      "source": [
        "# Finding closest pair of points"
      ],
      "metadata": {
        "id": "gjbg11BJzHm8"
      }
    },
    {
      "cell_type": "code",
      "execution_count": 34,
      "metadata": {
        "colab": {
          "base_uri": "https://localhost:8080/"
        },
        "id": "aZEEYGjuemGp",
        "outputId": "42edf6ea-91f9-4c6d-d76e-d6c55c6ace31"
      },
      "outputs": [
        {
          "output_type": "execute_result",
          "data": {
            "text/plain": [
              "4.12"
            ]
          },
          "metadata": {},
          "execution_count": 34
        }
      ],
      "source": [
        "# divide and conquer method \n",
        "\n",
        "import math\n",
        "\n",
        "def dist(A,B):\n",
        "  return (((B[1]-A[1])**2) + ((B[0]-A[0])**2) )**(1/2)\n",
        "\n",
        "def closestPair(px, py):\n",
        "  n = len(px)\n",
        "  if n == 2:\n",
        "    return(dist(px[0], px[1]))\n",
        "  elif n == 3:\n",
        "    return min(dist(px[0], px[1]), dist(px[0], px[2]), dist(px[1], px[2]))\n",
        "  \n",
        "  mid = int(n//2)\n",
        "  minOnRight = closestPair(px[0:mid], py)\n",
        "  minOnLeft = closestPair(px[mid: ], py)\n",
        "  d = min(minOnRight, minOnLeft)\n",
        "\n",
        "  reqPoints = []\n",
        "  mid = int(n//2)\n",
        "  for (x,y) in py:\n",
        "    if x in range(px[mid][0] - (math.floor(d)+1), px[mid][0] + (math.floor(d)+1)):\n",
        "      reqPoints.append((x,y))\n",
        "  reqPoints_len = len(reqPoints)\n",
        "  for i in range(reqPoints_len):\n",
        "    for j in range(i):\n",
        "        d = min(d, dist(reqPoints[i], reqPoints[j]))\n",
        "  return round(d,2)\n",
        "\n",
        "\n",
        "P = [(2, 15), (40, 5), (20, 1), (21, 14), (1,4), (3, 11)]\n",
        "px = sorted(P)\n",
        "py = P\n",
        "py.sort(key=lambda x: x[-1]) \n",
        "\n",
        "closestPair(px, py)"
      ]
    },
    {
      "cell_type": "code",
      "source": [
        "# verifying the result of \"divide and conquer method\" using naive/ brute force approach \n",
        "P = [(2, 15), (40, 5), (20,2), (21, 14), (1,4), (3, 11)]\n",
        "d = 100000\n",
        "for i in range(len(P)):\n",
        "  for j in range(i):\n",
        "      d = min(d, dist(P[i], P[j]))\n",
        "print(round(d,2))"
      ],
      "metadata": {
        "colab": {
          "base_uri": "https://localhost:8080/"
        },
        "id": "DYFmcWuHocXS",
        "outputId": "a0f06632-a227-4820-9853-38de0e600e1d"
      },
      "execution_count": 35,
      "outputs": [
        {
          "output_type": "stream",
          "name": "stdout",
          "text": [
            "4.12\n"
          ]
        }
      ]
    }
  ]
}