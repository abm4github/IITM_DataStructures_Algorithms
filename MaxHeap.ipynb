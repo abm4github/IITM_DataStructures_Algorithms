{
  "nbformat": 4,
  "nbformat_minor": 0,
  "metadata": {
    "colab": {
      "provenance": [],
      "authorship_tag": "ABX9TyNGjldmrj+8+IvvsvY4J27R",
      "include_colab_link": true
    },
    "kernelspec": {
      "name": "python3",
      "display_name": "Python 3"
    },
    "language_info": {
      "name": "python"
    }
  },
  "cells": [
    {
      "cell_type": "markdown",
      "metadata": {
        "id": "view-in-github",
        "colab_type": "text"
      },
      "source": [
        "<a href=\"https://colab.research.google.com/github/abm4github/IITM_DataStructures_Algorithms/blob/main/MaxHeap.ipynb\" target=\"_parent\"><img src=\"https://colab.research.google.com/assets/colab-badge.svg\" alt=\"Open In Colab\"/></a>"
      ]
    },
    {
      "cell_type": "code",
      "execution_count": 1,
      "metadata": {
        "colab": {
          "base_uri": "https://localhost:8080/"
        },
        "id": "by1_ztOQog5d",
        "outputId": "83911912-e23a-4321-b377-51d7a6725692"
      },
      "outputs": [
        {
          "output_type": "stream",
          "name": "stdout",
          "text": [
            "[6, 5, 3, 4, 2, 1]\n",
            "appendedA:  [6, 5, 3, 4, 2, 1, 7]\n",
            "[7, 5, 6, 4, 2, 1, 3]\n",
            "appendedA:  [7, 5, 6, 4, 2, 1, 3, 8]\n",
            "[8, 7, 6, 5, 2, 1, 3, 4]\n",
            "8\n",
            "7\n",
            "[6, 5, 3, 4, 2, 1]\n"
          ]
        }
      ],
      "source": [
        "class maxheap:\n",
        "    def __init__(self):\n",
        "        self.A = []\n",
        "    def max_heapify(self,k):\n",
        "        l = 2 * k + 1\n",
        "        r = 2 * k + 2\n",
        "        largest = k\n",
        "        if l < len(self.A) and self.A[l] > self.A[largest]:\n",
        "            largest = l\n",
        "        if r < len(self.A) and self.A[r] > self.A[largest]:\n",
        "            largest = r\n",
        "        if largest != k:\n",
        "            self.A[k], self.A[largest] = self.A[largest], self.A[k]\n",
        "            self.max_heapify(largest)\n",
        "\n",
        "    def build_max_heap(self,L):\n",
        "        self.A = []\n",
        "        for i in L:\n",
        "            self.A.append(i)\n",
        "        n = int((len(self.A)//2)-1)\n",
        "        for k in range(n, -1, -1):\n",
        "            self.max_heapify(k)\n",
        "\n",
        "        \n",
        "    def delete_max(self):\n",
        "        item = None\n",
        "        if self.A != []:\n",
        "            self.A[0],self.A[-1] = self.A[-1],self.A[0]\n",
        "            item = self.A.pop()\n",
        "            self.max_heapify(0)\n",
        "        return item\n",
        "\n",
        "\n",
        "    def insert_in_maxheap(self,d):\n",
        "        self.A.append(d)\n",
        "        index = len(self.A)-1\n",
        "        while index > 0:\n",
        "            parent = (index-1)//2\n",
        "            if self.A[index] > self.A[parent]:\n",
        "                self.A[index],self.A[parent] = self.A[parent],self.A[index]\n",
        "                index = parent\n",
        "            else:\n",
        "                break\n",
        "\n",
        "heap = maxheap()\n",
        "heap.build_max_heap([1,2,3,4,5,6])\n",
        "print(heap.A)\n",
        "heap.insert_in_maxheap(7)\n",
        "print(heap.A)\n",
        "heap.insert_in_maxheap(8)\n",
        "print(heap.A)\n",
        "print(heap.delete_max())\n",
        "print(heap.delete_max())\n",
        "print(heap.A)"
      ]
    }
  ]
}